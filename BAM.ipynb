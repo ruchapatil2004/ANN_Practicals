{
 "cells": [
  {
   "cell_type": "code",
   "execution_count": 3,
   "id": "6466554c-49fc-433f-beda-016fc3c5c8a5",
   "metadata": {},
   "outputs": [
    {
     "name": "stdout",
     "output_type": "stream",
     "text": [
      "Recalled X: [[1 1 1]]\n",
      "Recalled Y: [[1 1 0]]\n"
     ]
    }
   ],
   "source": [
    "import numpy as np\n",
    "\n",
    "class BAM:\n",
    "    def __init__(self, X, Y):\n",
    "        self.X = X\n",
    "        self.Y = Y\n",
    "        self.W = np.dot(X.T, Y)\n",
    "        self.T = np.dot(Y.T, X)\n",
    "\n",
    "    def recall_X(self, Y):\n",
    "        return np.dot(Y, self.W.T)\n",
    "\n",
    "    def recall_Y(self, X):\n",
    "        return np.dot(X, self.T.T)\n",
    "\n",
    "#Example vectors\n",
    "X = np.array([[1,0,1],\n",
    "             [0,1,0]])\n",
    "Y = np.array([[1,1,0],\n",
    "              [0,0,1]])\n",
    "\n",
    "#Create BAM\n",
    "bam = BAM(X,Y)\n",
    "\n",
    "#Test recall\n",
    "test_X = np.array([[1,0,0]])\n",
    "test_Y = np.array([[0,1,1]])\n",
    "\n",
    "recalled_X = bam.recall_X(test_Y)\n",
    "recalled_Y = bam.recall_Y(test_X)\n",
    "\n",
    "print(\"Recalled X:\", recalled_X)\n",
    "print(\"Recalled Y:\", recalled_Y)"
   ]
  },
  {
   "cell_type": "markdown",
   "id": "09e25690-dd18-4077-9cd6-0d7a1e1cd6bb",
   "metadata": {},
   "source": [
    "The provided code defines a Bidirectional Associative Memory (BAM) and demonstrates its use in recalling associated patterns. Here's a line-by-line explanation of how the code works:\n",
    "\n",
    "### Class Definition\n",
    "- `class BAM:`: Defines the Bidirectional Associative Memory (BAM) class.\n",
    "\n",
    "### Initialization (`__init__`)\n",
    "- `def __init__(self, X, Y):`: The constructor, initializing the BAM with two sets of patterns, `X` and `Y`.\n",
    "- `self.X = X`: Stores the `X` patterns in the instance.\n",
    "- `self.Y = Y`: Stores the `Y` patterns in the instance.\n",
    "- `self.W = np.dot(X.T, Y)`: Computes the weight matrix `W` by taking the dot product of the transpose of `X` with `Y`. This matrix represents the association between patterns in `X` and `Y`.\n",
    "- `self.T = np.dot(Y.T, X)`: Similarly, computes the weight matrix `T` by taking the dot product of the transpose of `Y` with `X`. This matrix represents the reverse association.\n",
    "\n",
    "### Recall Methods\n",
    "- `def recall_X(self, Y):`: Defines a method to recall patterns in `X` given patterns in `Y`.\n",
    "  - `return np.dot(Y, self.W.T)`: Returns the result of multiplying the given `Y` pattern with the transpose of `self.W`. This is the bidirectional associative process from `Y` to `X`.\n",
    "\n",
    "- `def recall_Y(self, X):`: Defines a method to recall patterns in `Y` given patterns in `X`.\n",
    "  - `return np.dot(X, self.T.T)`: Returns the result of multiplying the given `X` pattern with the transpose of `self.T`. This is the bidirectional associative process from `X` to `Y`.\n",
    "\n",
    "### Example Vectors\n",
    "- `X = np.array([[1, 0, 1], [0, 1, 0]])`: Defines a 2x3 array representing a set of patterns for `X`.\n",
    "- `Y = np.array([[1, 1, 0], [0, 0, 1]])`: Defines a 2x3 array representing a set of patterns for `Y`.\n",
    "\n",
    "### Create BAM\n",
    "- `bam = BAM(X, Y)`: Instantiates the BAM with the given `X` and `Y` patterns. The weight matrices `W` and `T` are computed during initialization.\n",
    "\n",
    "### Test Recall\n",
    "- `test_X = np.array([[1, 0, 0]])`: Defines a test pattern for `X`.\n",
    "- `test_Y = np.array([[0, 1, 1]])`: Defines a test pattern for `Y`.\n",
    "\n",
    "### Recall Patterns\n",
    "- `recalled_X = bam.recall_X(test_Y)`: Recalls an `X` pattern based on the given `Y` pattern. This uses the `recall_X` method and applies the associative memory process.\n",
    "- `recalled_Y = bam.recall_Y(test_X)`: Recalls a `Y` pattern based on the given `X` pattern. This uses the `recall_Y` method.\n",
    "\n",
    "### Print Results\n",
    "- `print(\"Recalled X:\", recalled_X)`: Outputs the recalled `X` pattern based on `test_Y`.\n",
    "- `print(\"Recalled Y:\", recalled_Y)`: Outputs the recalled `Y` pattern based on `test_X`.\n",
    "\n",
    "### Summary\n",
    "The code demonstrates a simple implementation of a Bidirectional Associative Memory (BAM), a type of neural network designed to associate pairs of patterns and recall them in both directions. The `recall_X` and `recall_Y` methods use the weight matrices `W` and `T` to retrieve the associated patterns based on given inputs. This approach is useful in scenarios where you have two sets of related patterns and want to create associations between them."
   ]
  },
  {
   "cell_type": "code",
   "execution_count": null,
   "id": "79134e4b-064b-4000-8cdd-fc3633ed7200",
   "metadata": {},
   "outputs": [],
   "source": []
  }
 ],
 "metadata": {
  "kernelspec": {
   "display_name": "Python 3 (ipykernel)",
   "language": "python",
   "name": "python3"
  },
  "language_info": {
   "codemirror_mode": {
    "name": "ipython",
    "version": 3
   },
   "file_extension": ".py",
   "mimetype": "text/x-python",
   "name": "python",
   "nbconvert_exporter": "python",
   "pygments_lexer": "ipython3",
   "version": "3.11.9"
  }
 },
 "nbformat": 4,
 "nbformat_minor": 5
}
