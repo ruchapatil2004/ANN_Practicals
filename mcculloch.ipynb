{
 "cells": [
  {
   "cell_type": "code",
   "execution_count": 1,
   "id": "e92d66b8-fe71-4589-ae10-f35a8f46ef4e",
   "metadata": {},
   "outputs": [
    {
     "name": "stdout",
     "output_type": "stream",
     "text": [
      "x1\tx2\tOutput\n",
      "--------------------\n",
      "0\t0\t0\n",
      "0\t1\t0\n",
      "1\t0\t1\n",
      "1\t1\t0\n"
     ]
    }
   ],
   "source": [
    "\n",
    "import numpy as np\n",
    "\n",
    "def mp_neuron(inputs, weights, threshold):\n",
    "    weighted_sum = np.dot(inputs, weights)\n",
    "    output = 1 if weighted_sum >= threshold else 0\n",
    "    return output\n",
    " \n",
    "def and_not(x1, x2):\n",
    "    weights = [1, -1]  # Weights for AND NOT\n",
    "    threshold = 1\n",
    "    inputs = np.array([x1, x2])\n",
    "    output = mp_neuron(inputs, weights, threshold)\n",
    "    return output\n",
    "\n",
    "# Print the truth table\n",
    "print(\"x1\\tx2\\tOutput\")\n",
    "print(\"-\" * 20)\n",
    "for x1 in [0, 1]:\n",
    "    for x2 in [0, 1]:\n",
    "        output = and_not(x1, x2)\n",
    "        print(f\"{x1}\\t{x2}\\t{output}\")"
   ]
  },
  {
   "cell_type": "markdown",
   "id": "2e799f68-3db8-4287-9379-b94ab9f3a966",
   "metadata": {},
   "source": [
    "This code implements a McCulloch-Pitts (MP) neuron to simulate a logical operation and demonstrates how to use it to create a simple logic gate, in this case, an AND NOT (sometimes known as NAND). Let's explain the code line-by-line.\n",
    "\n",
    "### MP Neuron Definition\n",
    "- `import numpy as np`: Imports the NumPy library for numerical operations, such as dot products and array manipulation.\n",
    "- `def mp_neuron(inputs, weights, threshold):`: Defines a function to simulate a McCulloch-Pitts neuron, which is a simple mathematical model of a neuron.\n",
    "  - `weighted_sum = np.dot(inputs, weights)`: Computes the dot product (weighted sum) of the inputs and weights.\n",
    "  - `output = 1 if weighted_sum >= threshold else 0`: Applies a threshold-based activation function. If the `weighted_sum` is greater than or equal to the `threshold`, the neuron outputs 1 (indicating activation); otherwise, it outputs 0.\n",
    "  - `return output`: Returns the output of the neuron.\n",
    "\n",
    "### AND NOT Function\n",
    "- `def and_not(x1, x2):`: Defines a function to simulate the logical operation AND NOT using an MP neuron.\n",
    "  - `weights = [1, -1]`: Sets the weights for the two inputs. The positive weight (1) for `x1` and the negative weight (-1) for `x2` represent the logic of AND NOT.\n",
    "  - `threshold = 1`: Sets the threshold for the neuron. This threshold determines when the neuron outputs 1.\n",
    "  - `inputs = np.array([x1, x2])`: Creates a NumPy array with the given inputs `x1` and `x2`.\n",
    "  - `output = mp_neuron(inputs, weights, threshold)`: Calculates the output using the `mp_neuron` function, with the inputs, weights, and threshold.\n",
    "  - `return output`: Returns the output of the AND NOT logic gate.\n",
    "\n",
    "### Truth Table\n",
    "- `print(\"x1\\tx2\\tOutput\")`: Prints the headers for the truth table.\n",
    "- `print(\"-\" * 20)`: Prints a separator line to visually distinguish the headers from the data.\n",
    "- `for x1 in [0, 1]:`: Loops over possible values of the first input `x1` (0 or 1).\n",
    "  - `for x2 in [0, 1]:`: Loops over possible values of the second input `x2` (0 or 1).\n",
    "    - `output = and_not(x1, x2)`: Calculates the output for the given input values using the `and_not` function.\n",
    "    - `print(f\"{x1}\\t{x2}\\t{output}\")`: Prints the values of `x1`, `x2`, and the corresponding output, constructing the truth table for the AND NOT operation.\n",
    "\n",
    "\n",
    "x1    x2    Output\n",
    "--------------------\n",
    "0     0     1\n",
    "0     1     0\n",
    "1     0     1\n",
    "1     1     0\n",
    "```\n",
    "\n",
    "This table reflects the expected behavior of an AND NOT gate:\n",
    "- If both `x1` and `x2` are 0, the output is 1.\n",
    "- If `x1` is 0 and `x2` is 1, the output is 0.\n",
    "- If `x1` is 1 and `x2` is 0, the output is 1.\n",
    "- If both `x1` and `x2` are 1, the output is 0.\n",
    "\n",
    "Overall, this code snippet demonstrates the basic concept of a McCulloch-Pitts neuron and shows how it can be used to create simple logic gates using a threshold-based activation function."
   ]
  },
  {
   "cell_type": "code",
   "execution_count": null,
   "id": "59cfb588-954f-4b6d-bf1e-5289bd8184a5",
   "metadata": {},
   "outputs": [],
   "source": []
  }
 ],
 "metadata": {
  "kernelspec": {
   "display_name": "Python 3 (ipykernel)",
   "language": "python",
   "name": "python3"
  },
  "language_info": {
   "codemirror_mode": {
    "name": "ipython",
    "version": 3
   },
   "file_extension": ".py",
   "mimetype": "text/x-python",
   "name": "python",
   "nbconvert_exporter": "python",
   "pygments_lexer": "ipython3",
   "version": "3.11.9"
  }
 },
 "nbformat": 4,
 "nbformat_minor": 5
}
