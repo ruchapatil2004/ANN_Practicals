{
 "cells": [
  {
   "cell_type": "code",
   "execution_count": 2,
   "id": "787050d4-a1ff-43b3-b173-255ed9b98a5e",
   "metadata": {},
   "outputs": [
    {
     "name": "stdout",
     "output_type": "stream",
     "text": [
      "Epoch 1/5\n"
     ]
    },
    {
     "name": "stderr",
     "output_type": "stream",
     "text": [
      "C:\\Users\\hp\\AppData\\Roaming\\Python\\Python311\\site-packages\\keras\\src\\layers\\core\\dense.py:87: UserWarning: Do not pass an `input_shape`/`input_dim` argument to a layer. When using Sequential models, prefer using an `Input(shape)` object as the first layer in the model instead.\n",
      "  super().__init__(activity_regularizer=activity_regularizer, **kwargs)\n"
     ]
    },
    {
     "name": "stdout",
     "output_type": "stream",
     "text": [
      "\u001b[1m15/15\u001b[0m \u001b[32m━━━━━━━━━━━━━━━━━━━━\u001b[0m\u001b[37m\u001b[0m \u001b[1m1s\u001b[0m 2ms/step - accuracy: 0.1785 - loss: 1.4022   \n",
      "Epoch 2/5\n",
      "\u001b[1m15/15\u001b[0m \u001b[32m━━━━━━━━━━━━━━━━━━━━\u001b[0m\u001b[37m\u001b[0m \u001b[1m0s\u001b[0m 1ms/step - accuracy: 0.2461 - loss: 1.2308 \n",
      "Epoch 3/5\n",
      "\u001b[1m15/15\u001b[0m \u001b[32m━━━━━━━━━━━━━━━━━━━━\u001b[0m\u001b[37m\u001b[0m \u001b[1m0s\u001b[0m 1ms/step - accuracy: 0.2724 - loss: 1.1255 \n",
      "Epoch 4/5\n",
      "\u001b[1m15/15\u001b[0m \u001b[32m━━━━━━━━━━━━━━━━━━━━\u001b[0m\u001b[37m\u001b[0m \u001b[1m0s\u001b[0m 1ms/step - accuracy: 0.3038 - loss: 0.9943 \n",
      "Epoch 5/5\n",
      "\u001b[1m15/15\u001b[0m \u001b[32m━━━━━━━━━━━━━━━━━━━━\u001b[0m\u001b[37m\u001b[0m \u001b[1m0s\u001b[0m 1ms/step - accuracy: 0.3848 - loss: 0.8812 \n",
      "\u001b[1m4/4\u001b[0m \u001b[32m━━━━━━━━━━━━━━━━━━━━\u001b[0m\u001b[37m\u001b[0m \u001b[1m0s\u001b[0m 3ms/step - accuracy: 0.3658 - loss: 0.9215  \n",
      "Accuracy: 0.38596490025520325\n"
     ]
    }
   ],
   "source": [
    "import tensorflow as tf\n",
    "\n",
    "from sklearn.model_selection import train_test_split\n",
    "\n",
    "from sklearn.preprocessing import StandardScaler\n",
    "\n",
    "from sklearn.datasets import load_breast_cancer\n",
    "\n",
    "\n",
    "# Load the breast cancer dataset\n",
    "\n",
    "data = load_breast_cancer()\n",
    "\n",
    "X_train, X_test, y_train, y_test = train_test_split(data.data, data.target, test_size=0.2, random_state=42)\n",
    "\n",
    "\n",
    "# Scale the input features\n",
    "\n",
    "scaler = StandardScaler()\n",
    "\n",
    "X_train = scaler.fit_transform(X_train)\n",
    "\n",
    "X_test = scaler.transform(X_test)\n",
    "\n",
    "# Build the model\n",
    "\n",
    "model = tf.keras.models.Sequential([\n",
    "\n",
    "    tf.keras.layers.Dense(1, activation='sigmoid', input_shape=(X_train.shape[1],))\n",
    "\n",
    "])\n",
    "\n",
    "# Compile the model\n",
    "\n",
    "model.compile(optimizer='adam', loss='binary_crossentropy', metrics=['accuracy'])\n",
    "\n",
    "# Train the model\n",
    "\n",
    "model.fit(X_train, y_train, epochs=5)\n",
    "\n",
    "# Evaluate the model\n",
    "\n",
    "test_loss, test_accuracy = model.evaluate(X_test, y_test)\n",
    "\n",
    "print(\"Accuracy:\", test_accuracy)"
   ]
  },
  {
   "cell_type": "markdown",
   "id": "d25e9415-c865-40a4-b241-020b2aa86a76",
   "metadata": {},
   "source": [
    "This code uses TensorFlow and Keras to build, train, and evaluate a simple neural network model for binary classification. Let's break it down step-by-step.\n",
    "\n",
    "### Import Statements\n",
    "- `import tensorflow as tf`: Imports the TensorFlow library for building and training the model.\n",
    "- `from sklearn.model_selection import train_test_split`: Imports the `train_test_split` function to split the data into training and testing sets.\n",
    "- `from sklearn.preprocessing import StandardScaler`: Imports `StandardScaler` for normalizing/scaling features.\n",
    "- `from sklearn.datasets import load_breast_cancer`: Imports a breast cancer dataset for the example.\n",
    "\n",
    "### Load and Split Data\n",
    "- `data = load_breast_cancer()`: Loads the breast cancer dataset from scikit-learn. It contains data on breast cancer cases with features and a target for classification (malignant or benign).\n",
    "- `X_train, X_test, y_train, y_test = train_test_split(data.data, data.target, test_size=0.2, random_state=42)`: Splits the data into training and testing sets, with 80% for training and 20% for testing. The `random_state` parameter ensures reproducibility.\n",
    "\n",
    "### Scale the Input Features\n",
    "- `scaler = StandardScaler()`: Creates an instance of `StandardScaler`, used for feature scaling.\n",
    "- `X_train = scaler.fit_transform(X_train)`: Fits the scaler to the training data and then transforms it, standardizing the features. Standardization typically means centering the data (mean = 0) and scaling it to have unit variance.\n",
    "- `X_test = scaler.transform(X_test)`: Transforms the testing data using the same scaler, ensuring consistency in feature scaling between training and testing data.\n",
    "\n",
    "### Build the Model\n",
    "- `model = tf.keras.models.Sequential([`:\n",
    "  - Begins defining a sequential Keras model, indicating layers will be added in sequence.\n",
    "- `tf.keras.layers.Dense(1, activation='sigmoid', input_shape=(X_train.shape[1],))`: Adds a dense (fully connected) layer with one output node, using the sigmoid activation function. The `input_shape` specifies the number of features in the input data, which is derived from `X_train.shape[1]`. The sigmoid activation function is used for binary classification, as it outputs values between 0 and 1.\n",
    "\n",
    "### Compile the Model\n",
    "- `model.compile(optimizer='adam', loss='binary_crossentropy', metrics=['accuracy'])`:\n",
    "  - Configures the model for training:\n",
    "    - `optimizer='adam'`: Uses the Adam optimizer, a popular choice for training neural networks.\n",
    "    - `loss='binary_crossentropy'`: Uses binary cross-entropy as the loss function, suitable for binary classification.\n",
    "    - `metrics=['accuracy']`: Tracks accuracy as a performance metric during training.\n",
    "\n",
    "### Train the Model\n",
    "- `model.fit(X_train, y_train, epochs=5)`: Trains the model using the training data for 5 epochs. An epoch is one complete iteration through the training data.\n",
    "\n",
    "### Evaluate the Model\n",
    "- `test_loss, test_accuracy = model.evaluate(X_test, y_test)`: Evaluates the model on the testing data to determine its performance. Returns the loss and accuracy.\n",
    "- `print(\"Accuracy:\", test_accuracy)`: Prints the test accuracy to assess the model's effectiveness.\n",
    "\n",
    "### Summary\n",
    "This code creates a simple neural network model for binary classification, trains it on a breast cancer dataset, and evaluates its accuracy on a test set. The use of `StandardScaler` ensures that the features are normalized, which is important for stable training. The model architecture is basic, with one dense layer and a sigmoid activation, suitable for binary classification tasks."
   ]
  },
  {
   "cell_type": "code",
   "execution_count": null,
   "id": "18f66ccc-8792-41d4-abe4-0fe3594ad462",
   "metadata": {},
   "outputs": [],
   "source": []
  }
 ],
 "metadata": {
  "kernelspec": {
   "display_name": "Python 3 (ipykernel)",
   "language": "python",
   "name": "python3"
  },
  "language_info": {
   "codemirror_mode": {
    "name": "ipython",
    "version": 3
   },
   "file_extension": ".py",
   "mimetype": "text/x-python",
   "name": "python",
   "nbconvert_exporter": "python",
   "pygments_lexer": "ipython3",
   "version": "3.11.9"
  }
 },
 "nbformat": 4,
 "nbformat_minor": 5
}
